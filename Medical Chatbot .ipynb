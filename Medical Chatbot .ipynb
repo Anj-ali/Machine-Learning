{
 "cells": [
  {
   "cell_type": "code",
   "execution_count": 1,
   "metadata": {},
   "outputs": [],
   "source": [
    "import numpy as np\n",
    "import matplotlib.pyplot as plt\n",
    "import pandas as pd"
   ]
  },
  {
   "cell_type": "code",
   "execution_count": 2,
   "metadata": {},
   "outputs": [],
   "source": [
    "train = pd.read_csv('Training.csv')\n",
    "test = pd.read_csv('Testing.csv')"
   ]
  },
  {
   "cell_type": "code",
   "execution_count": 3,
   "metadata": {},
   "outputs": [],
   "source": [
    "X = train.iloc[:, 0:132].values\n",
    "y = train.iloc[:, -1].values"
   ]
  },
  {
   "cell_type": "code",
   "execution_count": 4,
   "metadata": {},
   "outputs": [],
   "source": [
    "dimensionality_reduction = train.groupby(train['prognosis']).max()"
   ]
  },
  {
   "cell_type": "code",
   "execution_count": 5,
   "metadata": {},
   "outputs": [],
   "source": [
    "from sklearn.preprocessing import LabelEncoder\n",
    "labelencoder = LabelEncoder()\n",
    "y = labelencoder.fit_transform(y)"
   ]
  },
  {
   "cell_type": "code",
   "execution_count": 6,
   "metadata": {},
   "outputs": [],
   "source": [
    "from sklearn.model_selection import train_test_split\n",
    "X_train, X_test, y_train, y_test = train_test_split(X, y, test_size = 0.25, random_state = 0)"
   ]
  },
  {
   "cell_type": "code",
   "execution_count": 7,
   "metadata": {},
   "outputs": [
    {
     "data": {
      "text/plain": [
       "DecisionTreeClassifier(class_weight=None, criterion='gini', max_depth=None,\n",
       "                       max_features=None, max_leaf_nodes=None,\n",
       "                       min_impurity_decrease=0.0, min_impurity_split=None,\n",
       "                       min_samples_leaf=1, min_samples_split=2,\n",
       "                       min_weight_fraction_leaf=0.0, presort=False,\n",
       "                       random_state=None, splitter='best')"
      ]
     },
     "execution_count": 7,
     "metadata": {},
     "output_type": "execute_result"
    }
   ],
   "source": [
    "from sklearn.tree import DecisionTreeClassifier\n",
    "classifier = DecisionTreeClassifier()\n",
    "classifier.fit(X_train, y_train)"
   ]
  },
  {
   "cell_type": "code",
   "execution_count": 9,
   "metadata": {},
   "outputs": [],
   "source": [
    "cols = train.columns\n",
    "cols = cols[:-1]"
   ]
  },
  {
   "cell_type": "code",
   "execution_count": 10,
   "metadata": {},
   "outputs": [],
   "source": [
    "importances = classifier.feature_importances_\n",
    "indices = np.argsort(importances)[::-1]\n",
    "features = cols"
   ]
  },
  {
   "cell_type": "code",
   "execution_count": 11,
   "metadata": {},
   "outputs": [],
   "source": [
    "from sklearn.tree import _tree"
   ]
  },
  {
   "cell_type": "code",
   "execution_count": 12,
   "metadata": {},
   "outputs": [],
   "source": [
    "def execute_bot():\n",
    "\n",
    "    print(\"Please reply with yes/Yes or no/No for the following symptoms\") \n",
    "    def print_disease(node):\n",
    "        node = node[0]\n",
    "        val  = node.nonzero() \n",
    "        disease = labelencoder.inverse_transform(val[0])\n",
    "        return disease\n",
    "    def tree_to_code(tree, feature_names):\n",
    "        tree_ = tree.tree_\n",
    "        feature_name = [\n",
    "            feature_names[i] if i != _tree.TREE_UNDEFINED else \"undefined!\"\n",
    "            for i in tree_.feature\n",
    "        ]\n",
    "        symptoms_present = []\n",
    "        def recurse(node, depth):\n",
    "            indent = \"  \" * depth\n",
    "            if tree_.feature[node] != _tree.TREE_UNDEFINED:\n",
    "                name = feature_name[node]\n",
    "                threshold = tree_.threshold[node]\n",
    "                print(name + \" ?\")\n",
    "                ans = input()\n",
    "                ans = ans.lower()\n",
    "                if ans == 'yes':\n",
    "                    val = 1\n",
    "                else:\n",
    "                    val = 0\n",
    "                if  val <= threshold:\n",
    "                    recurse(tree_.children_left[node], depth + 1)\n",
    "                else:\n",
    "                    symptoms_present.append(name)\n",
    "                    recurse(tree_.children_right[node], depth + 1)\n",
    "            else:\n",
    "                present_disease = print_disease(tree_.value[node])\n",
    "                print( \"You may have \" +  present_disease )\n",
    "                print()\n",
    "                red_cols = dimensionality_reduction.columns \n",
    "                symptoms_given = red_cols[dimensionality_reduction.loc[present_disease].values[0].nonzero()]\n",
    "                print(\"symptoms present  \" + str(list(symptoms_present)))\n",
    "                print()\n",
    "                print(\"symptoms given \"  +  str(list(symptoms_given)) )  \n",
    "                print()\n",
    "                confidence_level = (1.0*len(symptoms_present))/len(symptoms_given)\n",
    "                print(\"confidence level is \" + str(confidence_level))\n",
    "                print()\n",
    "                print('The model suggests:')\n",
    "                print()\n",
    "                row = doctors[doctors['disease'] == present_disease[0]]\n",
    "                print('Consult ', str(row['name'].values))\n",
    "                print()\n",
    "                print('Visit ', str(row['link'].values))\n",
    "                \n",
    "    \n",
    "        recurse(0, 1)\n",
    "    \n",
    "    tree_to_code(classifier,cols)"
   ]
  },
  {
   "cell_type": "code",
   "execution_count": 13,
   "metadata": {},
   "outputs": [
    {
     "name": "stdout",
     "output_type": "stream",
     "text": [
      "Please reply with yes/Yes or no/No for the following symptoms\n",
      "palpitations ?\n",
      "No\n",
      "pain_behind_the_eyes ?\n",
      "yes\n",
      "['You may have Dengue']\n",
      "\n",
      "symptoms present  ['pain_behind_the_eyes']\n",
      "\n",
      "symptoms given ['skin_rash', 'chills', 'joint_pain', 'vomiting', 'fatigue', 'high_fever', 'headache', 'nausea', 'loss_of_appetite', 'pain_behind_the_eyes', 'back_pain', 'malaise', 'muscle_pain', 'red_spots_over_body']\n",
      "\n",
      "confidence level is 0.07142857142857142\n",
      "\n",
      "The model suggests:\n",
      "\n",
      "Consult  ['Dr. Ajay Jain']\n",
      "\n",
      "Visit  ['https://www.practo.com/delhi/doctor/dr-ajay-jain-ear-nose-throat-ent-specialist-1?specialization=Ear-Nose-Throat%20(ENT)%20Specialist&practice_id=664069']\n"
     ]
    }
   ],
   "source": [
    "doc_dataset = pd.read_csv('doctors_dataset.csv', names = ['Name', 'Description'])\n",
    "\n",
    "\n",
    "diseases = dimensionality_reduction.index\n",
    "diseases = pd.DataFrame(diseases)\n",
    "\n",
    "doctors = pd.DataFrame()\n",
    "doctors['name'] = np.nan\n",
    "doctors['link'] = np.nan\n",
    "doctors['disease'] = np.nan\n",
    "\n",
    "doctors['disease'] = diseases['prognosis']\n",
    "\n",
    "\n",
    "doctors['name'] = doc_dataset['Name']\n",
    "doctors['link'] = doc_dataset['Description']\n",
    "\n",
    "record = doctors[doctors['disease'] == 'AIDS']\n",
    "record['name']\n",
    "record['link']\n",
    "\n",
    "execute_bot()"
   ]
  }
 ],
 "metadata": {
  "kernelspec": {
   "display_name": "Python 3",
   "language": "python",
   "name": "python3"
  },
  "language_info": {
   "codemirror_mode": {
    "name": "ipython",
    "version": 3
   },
   "file_extension": ".py",
   "mimetype": "text/x-python",
   "name": "python",
   "nbconvert_exporter": "python",
   "pygments_lexer": "ipython3",
   "version": "3.7.3"
  }
 },
 "nbformat": 4,
 "nbformat_minor": 2
}
